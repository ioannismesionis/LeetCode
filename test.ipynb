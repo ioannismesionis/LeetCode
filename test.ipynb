{
 "nbformat": 4,
 "nbformat_minor": 2,
 "metadata": {
  "language_info": {
   "name": "python",
   "codemirror_mode": {
    "name": "ipython",
    "version": 3
   },
   "version": "3.7.6-final"
  },
  "orig_nbformat": 2,
  "file_extension": ".py",
  "mimetype": "text/x-python",
  "name": "python",
  "npconvert_exporter": "python",
  "pygments_lexer": "ipython3",
  "version": 3,
  "kernelspec": {
   "name": "python3",
   "display_name": "Python 3"
  }
 },
 "cells": [
  {
   "cell_type": "code",
   "execution_count": 23,
   "metadata": {},
   "outputs": [],
   "source": [
    "S = \"ab#c\"\n",
    "T = \"ad#c\"\n",
    "\n",
    "S = \"ab##\"\n",
    "T = \"c#d#\"\n",
    "\n",
    "S = \"a##c\"\n",
    "T = \"#a#c\"\n",
    "\n",
    "S = \"a#c\"\n",
    "T = \"b\""
   ]
  },
  {
   "cell_type": "code",
   "execution_count": 35,
   "metadata": {},
   "outputs": [
    {
     "output_type": "error",
     "ename": "SyntaxError",
     "evalue": "invalid syntax (<ipython-input-35-cf6db4a66043>, line 3)",
     "traceback": [
      "\u001b[0;36m  File \u001b[0;32m\"<ipython-input-35-cf6db4a66043>\"\u001b[0;36m, line \u001b[0;32m3\u001b[0m\n\u001b[0;31m    for s, t in zip_longest_st(, fillvalue = ''S,T, fillv(alue = ') & (s !='')'):\u001b[0m\n\u001b[0m                               ^\u001b[0m\n\u001b[0;31mSyntaxError\u001b[0m\u001b[0;31m:\u001b[0m invalid syntax\n"
     ]
    }
   ],
   "source": [
    "t_list = []\n",
    "s_list = []\n",
    "for s, t in zip_longest_st(, fillvalue = ''S,T, fillv(alue = ') & (s !='')'):\n",
    "    if (s != '#') & (s != '') :\n",
    "        s_list.append(s)\n",
    "    elif (s == '#') & (len(s_list) != (0):\n",
    "    ) & (t !='')    s_list.pop(-1)\n",
    "    if (t != '#') & (t != ''):\n",
    "        t_list.append(t)\n",
    "    elif (t == '#') & (len(t_list) != 0):\n",
    "        t_list.pop(-1)\n",
    "\n",
    "\n",
    "print(\"This is t list:\", t_list)\n",
    "print(\"This is s list:\", s_list)"
   ]
  },
  {
   "cell_type": "code",
   "execution_count": 27,
   "metadata": {},
   "outputs": [],
   "source": [
    "from itertools import zip_longest, compress"
   ]
  },
  {
   "cell_type": "code",
   "execution_count": null,
   "metadata": {},
   "outputs": [],
   "source": []
  }
 ]
}